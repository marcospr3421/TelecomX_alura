{
  "nbformat": 4,
  "nbformat_minor": 0,
  "metadata": {
    "colab": {
      "provenance": [],
      "authorship_tag": "ABX9TyMCuutW25rjklyOB2ZjLS3o",
      "include_colab_link": true
    },
    "kernelspec": {
      "name": "python3",
      "display_name": "Python 3"
    },
    "language_info": {
      "name": "python"
    }
  },
  "cells": [
    {
      "cell_type": "markdown",
      "metadata": {
        "id": "view-in-github",
        "colab_type": "text"
      },
      "source": [
        "<a href=\"https://colab.research.google.com/github/marcospr3421/TelecomX_alura/blob/main/Telecom_X_An%C3%A1lise_de_Evas%C3%A3o_de_Clientes.ipynb\" target=\"_parent\"><img src=\"https://colab.research.google.com/assets/colab-badge.svg\" alt=\"Open In Colab\"/></a>"
      ]
    },
    {
      "cell_type": "markdown",
      "source": [
        "Você foi contratado como assistente de análise de dados na Telecom X e fará parte do projeto \"Churn de Clientes\". A empresa enfrenta um alto índice de cancelamentos e precisa entender os fatores que levam à perda de clientes.\n",
        "\n",
        "Seu desafio será coletar, tratar e analisar os dados, utilizando Python e suas principais bibliotecas para extrair insights valiosos. A partir da sua análise, os demais colegas da  equipe de Data Science poderá avançar para modelos preditivos e desenvolver estratégias para reduzir a evasão.\n",
        "\n",
        "O que você vai praticar:\n",
        "✅ Importar e manipular dados de uma API de forma eficiente.\n",
        "✅ Aplicar os conceitos de ETL (Extração, Transformação e Carga) na preparação dos dados.\n",
        "✅ Criar visualizações de dados estratégicas para identificar padrões e tendências.\n",
        "✅ Realizar uma Análise Exploratória de Dados (EDA) e gerar um relatório com insights relevantes.\n",
        "\n",
        "Agora é sua vez! 🚀 Use seus conhecimentos para transformar dados brutos em informações estratégicas e ajudar a Telecom X a reter mais clientes."
      ],
      "metadata": {
        "id": "ozhr9ml76a8p"
      }
    },
    {
      "cell_type": "code",
      "source": [],
      "metadata": {
        "id": "ghNmbV6A6ccu"
      },
      "execution_count": null,
      "outputs": []
    }
  ]
}